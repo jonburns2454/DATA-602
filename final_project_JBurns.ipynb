{
 "cells": [
  {
   "cell_type": "markdown",
   "metadata": {},
   "source": [
    "#### Final Project Information\n",
    "You should include the following sections in your project:\n",
    "1. Abstract of no more than 300 words.\n",
    "2. Introduction - research question clearly stated, can be answered by the data\n",
    "3. EDA - well-labeled graphs/plots that are appropriate to your analysis. Each\n",
    "visualization includes a description of what is being shown.\n",
    "4. Data Wrangling - tidying of your data, manipulating missing values, structuring of\n",
    "your data, etc.\n",
    "5. Data Analysis.\n",
    "6. Conclusions"
   ]
  },
  {
   "cell_type": "markdown",
   "metadata": {},
   "source": [
    "##### Space holder for abstract"
   ]
  },
  {
   "cell_type": "markdown",
   "metadata": {},
   "source": [
    "#### 2. Introduction"
   ]
  },
  {
   "cell_type": "markdown",
   "metadata": {},
   "source": [
    "#### EDA\n",
    "- well-labeled graphs/plots that are appropriate to your analysis. Each\n",
    "visualization includes a description of what is being shown."
   ]
  },
  {
   "cell_type": "markdown",
   "metadata": {},
   "source": [
    "##### Quick overview of the datasets going into the project"
   ]
  },
  {
   "cell_type": "code",
   "execution_count": null,
   "metadata": {},
   "outputs": [],
   "source": [
    "### Import all required libraries and data for the start fo the project\n",
    "import pandas as pd\n",
    "import os\n",
    "import opendatasets as od\n",
    "kaggle_link = \"https://www.kaggle.com/datasets/jonathanburns22/environmental-remediation-sites?select=Environmental_Remediation_Sites_20240409.csv\"\n",
    "## user and key for install : {\"username\":\"jonathanburns22\",\"key\":\"90005dcc01f5eaeba4c00db91c8fafe3\"}\n",
    "od.download(kaggle_link)\n",
    "data_dir = '.\\\\environmental-remediation-sites'\n",
    "os.listdir(data_dir)\n",
    "df = pd.read_csv('environmental-remediation-sites/Environmental_Remediation_Sites_20240409.csv')\n",
    "\n",
    "#poverty and population data, by NY zip\n",
    "pov_df = pd.read_csv(\"https://raw.githubusercontent.com/jonburns2454/DATA-602/main/census_poverty_data_zipcodes.csv\")\n",
    "pop_df = pd.read_csv(\"https://raw.githubusercontent.com/jonburns2454/DATA-602/main/ny-zip-codes-data.csv\")\n",
    "pov_ch_df = pd.read_csv(\"https://raw.githubusercontent.com/jonburns2454/DATA-602/main/childhood%20poverty%20nys%20county.csv\")"
   ]
  },
  {
   "cell_type": "code",
   "execution_count": null,
   "metadata": {},
   "outputs": [],
   "source": [
    "df.head()"
   ]
  },
  {
   "cell_type": "code",
   "execution_count": null,
   "metadata": {},
   "outputs": [],
   "source": [
    "pop_df.head()"
   ]
  },
  {
   "cell_type": "code",
   "execution_count": null,
   "metadata": {},
   "outputs": [],
   "source": [
    "pov_df.head()"
   ]
  },
  {
   "cell_type": "markdown",
   "metadata": {},
   "source": [
    "##### Poverty variable creation\n",
    "- Get the poverty and population datasets prepared for a join to then calculate.\n",
    "- Namely formatting the poverty datasets NAME column to remove the leading ZCTA5 classifications leaving only the zip codes"
   ]
  },
  {
   "cell_type": "code",
   "execution_count": null,
   "metadata": {},
   "outputs": [],
   "source": [
    "pov_df['NAME'] = pov_df ['NAME'].str[5:]\n",
    "\n",
    "print(pov_df.shape[0],pop_df.shape[0])"
   ]
  },
  {
   "cell_type": "markdown",
   "metadata": {},
   "source": [
    "Join poverty and population by their zipcodes"
   ]
  },
  {
   "cell_type": "code",
   "execution_count": null,
   "metadata": {},
   "outputs": [],
   "source": [
    "print(pop_df.dtypes, pov_df.dtypes)"
   ]
  },
  {
   "cell_type": "code",
   "execution_count": 22,
   "metadata": {},
   "outputs": [
    {
     "name": "stdout",
     "output_type": "stream",
     "text": [
      "1826\n"
     ]
    }
   ],
   "source": [
    "pov_df['NAME']= pov_df['NAME'].astype(\"int64\")\n",
    "pop_pov = pd.merge(pov_df, pop_df, left_on=\"NAME\", right_on=\"zip\", how=\"left\")\n",
    "print(pop_pov.shape[0])"
   ]
  },
  {
   "cell_type": "markdown",
   "metadata": {},
   "source": [
    "Group the dataset by county to calculate the poverty percentage by county\n",
    "https://data.census.gov/table/ACSDP5Y2022.DP03?t=Income%20and%20Poverty:Poverty&g=040XX00US36$0500000&y=2022&d=ACS%205-Year%20Estimates%20Data%20Profiles&moe=false&tp=false"
   ]
  },
  {
   "cell_type": "markdown",
   "metadata": {},
   "source": []
  }
 ],
 "metadata": {
  "kernelspec": {
   "display_name": "Python 3",
   "language": "python",
   "name": "python3"
  },
  "language_info": {
   "codemirror_mode": {
    "name": "ipython",
    "version": 3
   },
   "file_extension": ".py",
   "mimetype": "text/x-python",
   "name": "python",
   "nbconvert_exporter": "python",
   "pygments_lexer": "ipython3",
   "version": "3.12.2"
  }
 },
 "nbformat": 4,
 "nbformat_minor": 2
}
