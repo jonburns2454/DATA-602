{
 "cells": [
  {
   "cell_type": "markdown",
   "metadata": {},
   "source": [
    "# Project Proposal\n",
    "Jonathan Burns"
   ]
  },
  {
   "cell_type": "markdown",
   "metadata": {},
   "source": [
    "Links Used"
   ]
  },
  {
   "cell_type": "markdown",
   "metadata": {},
   "source": [
    "link : https://data.ny.gov/Energy-Environment/Environmental-Remediation-Sites/c6ci-rzpg/about_data\n",
    "kaggle_link = \"https://www.kaggle.com/datasets/jonathanburns22/environmental-remediation-sites?select=Environmental_Remediation_Sites_20240409.csv\""
   ]
  },
  {
   "cell_type": "markdown",
   "metadata": {},
   "source": [
    "## **Research Question:**\n",
    "- Across the national literature there is mounting evidence to suggest that toxic waste is more likely to be dumped and disposed of in targeted minority, low income areas and neighborhoods. Thus my research question is: Does New York State follow the national trend and just how bad are the chemicals that are being dumped? "
   ]
  },
  {
   "cell_type": "markdown",
   "metadata": {},
   "source": [
    "## **Justification - why is this relevant to you or your industry?**\n",
    "- While I do not work in the industry, being a NY resident makes this as pertinent as ever. The communities we live in are all impacted by toxic waste dumping regardless of where you live. This is a dive into public health and health equity research that is not as regularly addressed as it needs to be."
   ]
  },
  {
   "cell_type": "code",
   "execution_count": 1,
   "metadata": {},
   "outputs": [],
   "source": [
    "## Libraries needed for pulling in data:\n",
    "import pandas as pd\n",
    "import os\n",
    "import opendatasets as od"
   ]
  },
  {
   "cell_type": "markdown",
   "metadata": {},
   "source": [
    "## **Data Sources: Pulling in the data**\n",
    "* I needed to use kaggle and make my df public because GitHub capabilities were too small for this dataset.\n",
    "* The info for getting this data, and the api pull is located below.\n",
    "* Last thing of note, I am going to be looking for a poverty data set to pull into this project I found the poverty data on the census data tool, separating poverty estimates by zipcode in NYS.\n",
    "* To give this data any meaning I had to pull in total population by zipcodes as well to calculate percentages, these will be joined, cleanded and then joined with the toxic waste dumping dataset\n",
    "* I will eventually be trying to map this data"
   ]
  },
  {
   "cell_type": "code",
   "execution_count": 2,
   "metadata": {},
   "outputs": [
    {
     "name": "stdout",
     "output_type": "stream",
     "text": [
      "Skipping, found downloaded files in \".\\environmental-remediation-sites\" (use force=True to force download)\n"
     ]
    }
   ],
   "source": [
    "kaggle_link = \"https://www.kaggle.com/datasets/jonathanburns22/environmental-remediation-sites?select=Environmental_Remediation_Sites_20240409.csv\"\n",
    "## user and key for install : {\"username\":\"jonathanburns22\",\"key\":\"90005dcc01f5eaeba4c00db91c8fafe3\"}\n",
    "od.download(kaggle_link)\n"
   ]
  },
  {
   "cell_type": "code",
   "execution_count": 6,
   "metadata": {},
   "outputs": [
    {
     "data": {
      "text/html": [
       "<div>\n",
       "<style scoped>\n",
       "    .dataframe tbody tr th:only-of-type {\n",
       "        vertical-align: middle;\n",
       "    }\n",
       "\n",
       "    .dataframe tbody tr th {\n",
       "        vertical-align: top;\n",
       "    }\n",
       "\n",
       "    .dataframe thead th {\n",
       "        text-align: right;\n",
       "    }\n",
       "</style>\n",
       "<table border=\"1\" class=\"dataframe\">\n",
       "  <thead>\n",
       "    <tr style=\"text-align: right;\">\n",
       "      <th></th>\n",
       "      <th>zip</th>\n",
       "      <th>population</th>\n",
       "      <th>city</th>\n",
       "      <th>county</th>\n",
       "    </tr>\n",
       "  </thead>\n",
       "  <tbody>\n",
       "    <tr>\n",
       "      <th>0</th>\n",
       "      <td>11368</td>\n",
       "      <td>112750</td>\n",
       "      <td>Corona</td>\n",
       "      <td>Queens County</td>\n",
       "    </tr>\n",
       "    <tr>\n",
       "      <th>1</th>\n",
       "      <td>11208</td>\n",
       "      <td>108180</td>\n",
       "      <td>Brooklyn</td>\n",
       "      <td>Kings County</td>\n",
       "    </tr>\n",
       "    <tr>\n",
       "      <th>2</th>\n",
       "      <td>11385</td>\n",
       "      <td>105521</td>\n",
       "      <td>Ridgewood</td>\n",
       "      <td>Queens County</td>\n",
       "    </tr>\n",
       "    <tr>\n",
       "      <th>3</th>\n",
       "      <td>11373</td>\n",
       "      <td>102618</td>\n",
       "      <td>Elmhurst</td>\n",
       "      <td>Queens County</td>\n",
       "    </tr>\n",
       "    <tr>\n",
       "      <th>4</th>\n",
       "      <td>11226</td>\n",
       "      <td>101053</td>\n",
       "      <td>Brooklyn</td>\n",
       "      <td>Kings County</td>\n",
       "    </tr>\n",
       "  </tbody>\n",
       "</table>\n",
       "</div>"
      ],
      "text/plain": [
       "     zip  population       city         county\n",
       "0  11368      112750     Corona  Queens County\n",
       "1  11208      108180   Brooklyn   Kings County\n",
       "2  11385      105521  Ridgewood  Queens County\n",
       "3  11373      102618   Elmhurst  Queens County\n",
       "4  11226      101053   Brooklyn   Kings County"
      ]
     },
     "execution_count": 6,
     "metadata": {},
     "output_type": "execute_result"
    }
   ],
   "source": [
    "pov_df = pd.read_csv(\"https://raw.githubusercontent.com/jonburns2454/DATA-602/main/census_poverty_data_zipcodes.csv\")\n",
    "pop_df = pd.read_csv(\"https://raw.githubusercontent.com/jonburns2454/DATA-602/main/ny-zip-codes-data.csv\")\n",
    "pop_df.head()"
   ]
  },
  {
   "cell_type": "code",
   "execution_count": 7,
   "metadata": {},
   "outputs": [
    {
     "data": {
      "text/html": [
       "<div>\n",
       "<style scoped>\n",
       "    .dataframe tbody tr th:only-of-type {\n",
       "        vertical-align: middle;\n",
       "    }\n",
       "\n",
       "    .dataframe tbody tr th {\n",
       "        vertical-align: top;\n",
       "    }\n",
       "\n",
       "    .dataframe thead th {\n",
       "        text-align: right;\n",
       "    }\n",
       "</style>\n",
       "<table border=\"1\" class=\"dataframe\">\n",
       "  <thead>\n",
       "    <tr style=\"text-align: right;\">\n",
       "      <th></th>\n",
       "      <th>GEO_ID</th>\n",
       "      <th>NAME</th>\n",
       "      <th>Population for whom poverty status is determined</th>\n",
       "      <th>Population for whom poverty status is determined!!AGE!!Under 18 years</th>\n",
       "      <th>Population for whom poverty status is determined!!AGE!!Under 18 years!!Under 5 years</th>\n",
       "      <th>Population for whom poverty status is determined!!AGE!!Under 18 years!!5 to 17 years</th>\n",
       "    </tr>\n",
       "  </thead>\n",
       "  <tbody>\n",
       "    <tr>\n",
       "      <th>0</th>\n",
       "      <td>860Z200US06390</td>\n",
       "      <td>ZCTA5 06390</td>\n",
       "      <td>53</td>\n",
       "      <td>6</td>\n",
       "      <td>0</td>\n",
       "      <td>6</td>\n",
       "    </tr>\n",
       "    <tr>\n",
       "      <th>1</th>\n",
       "      <td>860Z200US10001</td>\n",
       "      <td>ZCTA5 10001</td>\n",
       "      <td>25825</td>\n",
       "      <td>2675</td>\n",
       "      <td>744</td>\n",
       "      <td>1931</td>\n",
       "    </tr>\n",
       "    <tr>\n",
       "      <th>2</th>\n",
       "      <td>860Z200US10002</td>\n",
       "      <td>ZCTA5 10002</td>\n",
       "      <td>75806</td>\n",
       "      <td>10022</td>\n",
       "      <td>2141</td>\n",
       "      <td>7881</td>\n",
       "    </tr>\n",
       "    <tr>\n",
       "      <th>3</th>\n",
       "      <td>860Z200US10003</td>\n",
       "      <td>ZCTA5 10003</td>\n",
       "      <td>44602</td>\n",
       "      <td>3580</td>\n",
       "      <td>1404</td>\n",
       "      <td>2176</td>\n",
       "    </tr>\n",
       "    <tr>\n",
       "      <th>4</th>\n",
       "      <td>860Z200US10004</td>\n",
       "      <td>ZCTA5 10004</td>\n",
       "      <td>4578</td>\n",
       "      <td>839</td>\n",
       "      <td>432</td>\n",
       "      <td>407</td>\n",
       "    </tr>\n",
       "  </tbody>\n",
       "</table>\n",
       "</div>"
      ],
      "text/plain": [
       "           GEO_ID         NAME  \\\n",
       "0  860Z200US06390  ZCTA5 06390   \n",
       "1  860Z200US10001  ZCTA5 10001   \n",
       "2  860Z200US10002  ZCTA5 10002   \n",
       "3  860Z200US10003  ZCTA5 10003   \n",
       "4  860Z200US10004  ZCTA5 10004   \n",
       "\n",
       "   Population for whom poverty status is determined  \\\n",
       "0                                                53   \n",
       "1                                             25825   \n",
       "2                                             75806   \n",
       "3                                             44602   \n",
       "4                                              4578   \n",
       "\n",
       "   Population for whom poverty status is determined!!AGE!!Under 18 years  \\\n",
       "0                                                  6                       \n",
       "1                                               2675                       \n",
       "2                                              10022                       \n",
       "3                                               3580                       \n",
       "4                                                839                       \n",
       "\n",
       "   Population for whom poverty status is determined!!AGE!!Under 18 years!!Under 5 years  \\\n",
       "0                                                  0                                      \n",
       "1                                                744                                      \n",
       "2                                               2141                                      \n",
       "3                                               1404                                      \n",
       "4                                                432                                      \n",
       "\n",
       "   Population for whom poverty status is determined!!AGE!!Under 18 years!!5 to 17 years  \n",
       "0                                                  6                                     \n",
       "1                                               1931                                     \n",
       "2                                               7881                                     \n",
       "3                                               2176                                     \n",
       "4                                                407                                     "
      ]
     },
     "execution_count": 7,
     "metadata": {},
     "output_type": "execute_result"
    }
   ],
   "source": [
    "pov_df.head()"
   ]
  },
  {
   "cell_type": "code",
   "execution_count": 3,
   "metadata": {},
   "outputs": [
    {
     "data": {
      "text/plain": [
       "['Environmental_Remediation_Sites_20240409.csv']"
      ]
     },
     "execution_count": 3,
     "metadata": {},
     "output_type": "execute_result"
    }
   ],
   "source": [
    "data_dir = '.\\\\environmental-remediation-sites'\n",
    "os.listdir(data_dir)"
   ]
  },
  {
   "cell_type": "code",
   "execution_count": 5,
   "metadata": {},
   "outputs": [
    {
     "name": "stderr",
     "output_type": "stream",
     "text": [
      "C:\\Users\\Jonathan Burns\\AppData\\Local\\Temp\\ipykernel_21132\\707603369.py:1: DtypeWarning: Columns (0,5,8,13,14,19,22,25,26,27,28,29,30,31,34,37) have mixed types. Specify dtype option on import or set low_memory=False.\n",
      "  df = pd.read_csv('environmental-remediation-sites/Environmental_Remediation_Sites_20240409.csv')\n"
     ]
    },
    {
     "data": {
      "text/html": [
       "<div>\n",
       "<style scoped>\n",
       "    .dataframe tbody tr th:only-of-type {\n",
       "        vertical-align: middle;\n",
       "    }\n",
       "\n",
       "    .dataframe tbody tr th {\n",
       "        vertical-align: top;\n",
       "    }\n",
       "\n",
       "    .dataframe thead th {\n",
       "        text-align: right;\n",
       "    }\n",
       "</style>\n",
       "<table border=\"1\" class=\"dataframe\">\n",
       "  <thead>\n",
       "    <tr style=\"text-align: right;\">\n",
       "      <th></th>\n",
       "      <th>Program Number</th>\n",
       "      <th>Program Type</th>\n",
       "      <th>Program Facility Name</th>\n",
       "      <th>Site Class</th>\n",
       "      <th>Address1</th>\n",
       "      <th>Address2</th>\n",
       "      <th>Locality</th>\n",
       "      <th>County</th>\n",
       "      <th>ZIPCode</th>\n",
       "      <th>SWIS Code</th>\n",
       "      <th>...</th>\n",
       "      <th>Disposal City</th>\n",
       "      <th>Disposal ZIP</th>\n",
       "      <th>Disposal State</th>\n",
       "      <th>Operator Name</th>\n",
       "      <th>Operator Address1</th>\n",
       "      <th>Operator Address2</th>\n",
       "      <th>Operator City</th>\n",
       "      <th>Operator State</th>\n",
       "      <th>Operator Zip</th>\n",
       "      <th>Georeference</th>\n",
       "    </tr>\n",
       "  </thead>\n",
       "  <tbody>\n",
       "    <tr>\n",
       "      <th>0</th>\n",
       "      <td>130069</td>\n",
       "      <td>HW</td>\n",
       "      <td>Roslyn Air National Guard Station</td>\n",
       "      <td>A</td>\n",
       "      <td>209 HARBOR HILL RD.</td>\n",
       "      <td>NaN</td>\n",
       "      <td>Roslyn</td>\n",
       "      <td>Nassau</td>\n",
       "      <td>11576</td>\n",
       "      <td>3022</td>\n",
       "      <td>...</td>\n",
       "      <td>NaN</td>\n",
       "      <td>NaN</td>\n",
       "      <td>NaN</td>\n",
       "      <td>NaN</td>\n",
       "      <td>NaN</td>\n",
       "      <td>NaN</td>\n",
       "      <td>NaN</td>\n",
       "      <td>NaN</td>\n",
       "      <td>NaN</td>\n",
       "      <td>POINT (-73.628608679 40.79635803)</td>\n",
       "    </tr>\n",
       "    <tr>\n",
       "      <th>1</th>\n",
       "      <td>130098</td>\n",
       "      <td>HW</td>\n",
       "      <td>Glen Head Groundwater Plume</td>\n",
       "      <td>N</td>\n",
       "      <td>Glen Head Road</td>\n",
       "      <td>NaN</td>\n",
       "      <td>Glen Head</td>\n",
       "      <td>Nassau</td>\n",
       "      <td>11545</td>\n",
       "      <td>3024</td>\n",
       "      <td>...</td>\n",
       "      <td>NaN</td>\n",
       "      <td>NaN</td>\n",
       "      <td>NaN</td>\n",
       "      <td>NaN</td>\n",
       "      <td>NaN</td>\n",
       "      <td>NaN</td>\n",
       "      <td>NaN</td>\n",
       "      <td>NaN</td>\n",
       "      <td>NaN</td>\n",
       "      <td>POINT (-73.62667717 40.83397813)</td>\n",
       "    </tr>\n",
       "    <tr>\n",
       "      <th>2</th>\n",
       "      <td>130119</td>\n",
       "      <td>HW</td>\n",
       "      <td>Former Thypin Steel Plant</td>\n",
       "      <td>A</td>\n",
       "      <td>5 Sagamore Hill Drive</td>\n",
       "      <td>NaN</td>\n",
       "      <td>Manorhaven</td>\n",
       "      <td>Nassau</td>\n",
       "      <td>11050</td>\n",
       "      <td>3022</td>\n",
       "      <td>...</td>\n",
       "      <td>NaN</td>\n",
       "      <td>NaN</td>\n",
       "      <td>NaN</td>\n",
       "      <td>NaN</td>\n",
       "      <td>NaN</td>\n",
       "      <td>NaN</td>\n",
       "      <td>NaN</td>\n",
       "      <td>NaN</td>\n",
       "      <td>NaN</td>\n",
       "      <td>POINT (-73.709502538 40.835351066)</td>\n",
       "    </tr>\n",
       "    <tr>\n",
       "      <th>3</th>\n",
       "      <td>152056</td>\n",
       "      <td>HW</td>\n",
       "      <td>Fire Island L.F.</td>\n",
       "      <td>N</td>\n",
       "      <td>152056 Fire Island L.F.</td>\n",
       "      <td>NaN</td>\n",
       "      <td>Fire Island Pines</td>\n",
       "      <td>Suffolk</td>\n",
       "      <td>11782</td>\n",
       "      <td>5222</td>\n",
       "      <td>...</td>\n",
       "      <td>NaN</td>\n",
       "      <td>NaN</td>\n",
       "      <td>NaN</td>\n",
       "      <td>NaN</td>\n",
       "      <td>NaN</td>\n",
       "      <td>NaN</td>\n",
       "      <td>NaN</td>\n",
       "      <td>NaN</td>\n",
       "      <td>NaN</td>\n",
       "      <td>POINT (-73.31517273 40.76110161)</td>\n",
       "    </tr>\n",
       "    <tr>\n",
       "      <th>4</th>\n",
       "      <td>231075</td>\n",
       "      <td>RCRA</td>\n",
       "      <td>Ashland Inc</td>\n",
       "      <td>C</td>\n",
       "      <td>609 W 131st Street</td>\n",
       "      <td>NaN</td>\n",
       "      <td>New York</td>\n",
       "      <td>New York</td>\n",
       "      <td>10027</td>\n",
       "      <td>3101</td>\n",
       "      <td>...</td>\n",
       "      <td>NaN</td>\n",
       "      <td>NaN</td>\n",
       "      <td>NaN</td>\n",
       "      <td>NaN</td>\n",
       "      <td>NaN</td>\n",
       "      <td>NaN</td>\n",
       "      <td>NaN</td>\n",
       "      <td>NaN</td>\n",
       "      <td>NaN</td>\n",
       "      <td>POINT (-73.957496 40.818198)</td>\n",
       "    </tr>\n",
       "  </tbody>\n",
       "</table>\n",
       "<p>5 rows × 39 columns</p>\n",
       "</div>"
      ],
      "text/plain": [
       "  Program Number Program Type              Program Facility Name Site Class  \\\n",
       "0         130069           HW  Roslyn Air National Guard Station          A   \n",
       "1         130098           HW        Glen Head Groundwater Plume          N   \n",
       "2         130119           HW          Former Thypin Steel Plant          A   \n",
       "3         152056           HW                   Fire Island L.F.          N   \n",
       "4         231075         RCRA                        Ashland Inc          C   \n",
       "\n",
       "                  Address1 Address2           Locality    County ZIPCode  \\\n",
       "0      209 HARBOR HILL RD.      NaN             Roslyn    Nassau   11576   \n",
       "1           Glen Head Road      NaN          Glen Head    Nassau   11545   \n",
       "2    5 Sagamore Hill Drive      NaN         Manorhaven    Nassau   11050   \n",
       "3  152056 Fire Island L.F.      NaN  Fire Island Pines   Suffolk   11782   \n",
       "4       609 W 131st Street      NaN           New York  New York   10027   \n",
       "\n",
       "   SWIS Code  ...  Disposal City  Disposal ZIP  Disposal State Operator Name  \\\n",
       "0       3022  ...            NaN           NaN             NaN           NaN   \n",
       "1       3024  ...            NaN           NaN             NaN           NaN   \n",
       "2       3022  ...            NaN           NaN             NaN           NaN   \n",
       "3       5222  ...            NaN           NaN             NaN           NaN   \n",
       "4       3101  ...            NaN           NaN             NaN           NaN   \n",
       "\n",
       "  Operator Address1 Operator Address2 Operator City Operator State  \\\n",
       "0               NaN               NaN           NaN            NaN   \n",
       "1               NaN               NaN           NaN            NaN   \n",
       "2               NaN               NaN           NaN            NaN   \n",
       "3               NaN               NaN           NaN            NaN   \n",
       "4               NaN               NaN           NaN            NaN   \n",
       "\n",
       "  Operator Zip                        Georeference  \n",
       "0          NaN   POINT (-73.628608679 40.79635803)  \n",
       "1          NaN    POINT (-73.62667717 40.83397813)  \n",
       "2          NaN  POINT (-73.709502538 40.835351066)  \n",
       "3          NaN    POINT (-73.31517273 40.76110161)  \n",
       "4          NaN        POINT (-73.957496 40.818198)  \n",
       "\n",
       "[5 rows x 39 columns]"
      ]
     },
     "execution_count": 5,
     "metadata": {},
     "output_type": "execute_result"
    }
   ],
   "source": [
    "df = pd.read_csv('environmental-remediation-sites/Environmental_Remediation_Sites_20240409.csv')\n",
    "df.head()"
   ]
  },
  {
   "cell_type": "markdown",
   "metadata": {},
   "source": [
    "## **Potential Libraries used**"
   ]
  },
  {
   "cell_type": "code",
   "execution_count": 8,
   "metadata": {},
   "outputs": [],
   "source": [
    "## Libraries needed for pulling in data:\n",
    "import pandas as pd\n",
    "import os\n",
    "import opendatasets as od\n",
    "\n",
    "##Libraries for the rest\n",
    "import numpy as np\n",
    "import matplotlib.pyplot as plt\n",
    "import seaborn as sns\n",
    "import re\n",
    "#import folium possible mapping library"
   ]
  },
  {
   "cell_type": "markdown",
   "metadata": {},
   "source": [
    "## **EDA and Summary Statistics**\n",
    "* I plan on cutting and shaping this data set for the final project and most of the numeric data analysis will come with the introduction of poverty (by zipcode/county), thus a simple df.describe() will not provide much usable information since this data set is mostly classifying variables."
   ]
  },
  {
   "cell_type": "code",
   "execution_count": 9,
   "metadata": {},
   "outputs": [
    {
     "data": {
      "text/plain": [
       "(218923, 39)"
      ]
     },
     "execution_count": 9,
     "metadata": {},
     "output_type": "execute_result"
    }
   ],
   "source": [
    "# 39 columns, however, only a subset of those will be important in the analysis\n",
    "df.shape"
   ]
  },
  {
   "cell_type": "code",
   "execution_count": 10,
   "metadata": {},
   "outputs": [
    {
     "name": "stdout",
     "output_type": "stream",
     "text": [
      "(1826, 6) (1776, 4)\n"
     ]
    }
   ],
   "source": [
    "## 1826 zipcodes across NYS, and \n",
    "pov_df.shape \n",
    "pop_df.shape\n",
    "print(pov_df.shape,pop_df.shape)"
   ]
  },
  {
   "cell_type": "code",
   "execution_count": 11,
   "metadata": {},
   "outputs": [
    {
     "data": {
      "image/png": "[encoded data removed]",
      "text/plain": [
       "<Figure size 640x480 with 1 Axes>"
      ]
     },
     "metadata": {},
     "output_type": "display_data"
    }
   ],
   "source": [
    "import matplotlib.pyplot as plt\n",
    "\n",
    "# Assuming 'classification_column' is your classification column\n",
    "class_counts = df['Site Class'].value_counts()\n",
    "plt.bar(class_counts.index, class_counts.values)\n",
    "plt.xlabel('Waste Classification')\n",
    "plt.ylabel('Count')\n",
    "plt.title('Count by Waste Classification Type')\n",
    "plt.show()"
   ]
  },
  {
   "cell_type": "code",
   "execution_count": 12,
   "metadata": {},
   "outputs": [
    {
     "data": {
      "image/png": "[encoded data removed]",
      "text/plain": [
       "<Figure size 640x480 with 1 Axes>"
      ]
     },
     "metadata": {},
     "output_type": "display_data"
    }
   ],
   "source": [
    "## The data is clustered in a few different regions, but I think more value will be derived from breaking it down by zip code rather than these massive DEC Regions\n",
    "dec_counts = df['DEC Region'].value_counts()\n",
    "plt.bar(dec_counts.index, dec_counts.values)\n",
    "plt.xlabel('Regional Classification')\n",
    "plt.ylabel('Count')\n",
    "plt.title('Count by Regional Classification Type')\n",
    "plt.show()"
   ]
  },
  {
   "cell_type": "markdown",
   "metadata": {},
   "source": [
    "## **Conclusion**\n",
    "This data requires a decent amount of cleaning, joining and formatting to get the correct contents and shape for cross-county data analysis and eventually mapping. I will be using Census Zip Code based poverty data and zip code based total population data (for poverty rate calculations). Finally I will use a mapping library to map out toxic dumping sites in NY to see if the national narrative holds true in NYS."
   ]
  }
 ],
 "metadata": {
  "kernelspec": {
   "display_name": "Python 3",
   "language": "python",
   "name": "python3"
  },
  "language_info": {
   "codemirror_mode": {
    "name": "ipython",
    "version": 3
   },
   "file_extension": ".py",
   "mimetype": "text/x-python",
   "name": "python",
   "nbconvert_exporter": "python",
   "pygments_lexer": "ipython3",
   "version": "3.12.2"
  }
 },
 "nbformat": 4,
 "nbformat_minor": 2
}
